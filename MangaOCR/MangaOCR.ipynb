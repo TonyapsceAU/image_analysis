{
  "cells": [
    {
      "cell_type": "code",
      "execution_count": null,
      "metadata": {
        "id": "FKQ_2k7Og_GW"
      },
      "outputs": [],
      "source": [
        "import os\n",
        "path = \"/content\"\n",
        "os.chdir(path)"
      ]
    },
    {
      "cell_type": "code",
      "execution_count": null,
      "metadata": {
        "id": "c_Z3L09AL8Ca"
      },
      "outputs": [],
      "source": [
        "!pip3 install manga-ocr\n",
        "!mkdir data"
      ]
    },
    {
      "cell_type": "code",
      "execution_count": null,
      "metadata": {
        "id": "wTEyuC6WK0RB"
      },
      "outputs": [],
      "source": [
        "from google.colab import files\n",
        "\n",
        "path = \"/content/data\"\n",
        "os.chdir(path)\n",
        "image = files.upload()\n",
        "image_name = list(image.keys())[0]"
      ]
    },
    {
      "cell_type": "code",
      "execution_count": null,
      "metadata": {
        "id": "6d_nL1mSquOi"
      },
      "outputs": [],
      "source": [
        "import PIL.Image\n",
        "from manga_ocr import MangaOcr\n",
        "\n",
        "mocr = MangaOcr()\n",
        "img = PIL.Image.open(image_name)\n",
        "text = mocr(img)\n",
        "print(text)"
      ]
    },
    {
      "cell_type": "code",
      "execution_count": null,
      "metadata": {
        "id": "ibKbSXj_WPlX"
      },
      "outputs": [],
      "source": [
        "!rm -rf /content/data/"
      ]
    }
  ],
  "metadata": {
    "accelerator": "GPU",
    "colab": {
      "provenance": []
    },
    "gpuClass": "standard",
    "kernelspec": {
      "display_name": "Python 3",
      "name": "python3"
    },
    "language_info": {
      "name": "python"
    }
  },
  "nbformat": 4,
  "nbformat_minor": 0
}